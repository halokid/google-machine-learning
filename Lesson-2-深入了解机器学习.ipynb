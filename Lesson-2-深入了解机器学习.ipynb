{
 "cells": [
  {
   "cell_type": "markdown",
   "metadata": {},
   "source": [
    "# 线性关系\n",
    "\n",
    "虽然该直线并未精确无误地经过每个点，但针对我们拥有的数据，清楚地显示了鸣叫声与温度之间的关系。只需运用一点代数知识，您就可以将这种关系写下来，如下所示：\n",
    "\n",
    "$y = mx + b$\n",
    "\n",
    "其中：\n",
    "\n",
    "  $y $  指的是温度（以摄氏度表示），即我们试图预测的值。\n",
    "  \n",
    " $m$  指的是直线的斜率。\n",
    " \n",
    " $x$  指的是每分钟的鸣叫声次数，即输入特征的值。\n",
    " \n",
    " $b$  指的是 y 轴截距。\n",
    "\n",
    "虽然该直线并未精确无误地经过每个点，但针对我们拥有的数据，清楚地显示了鸣叫声与温度之间的关系。只需运用一点代数知识，您就可以将这种关系写下来，如下所示：\n",
    "\n",
    "$y = mx + b$\n",
    "\n",
    "其中：\n",
    "\n",
    "  $y $  指的是温度（以摄氏度表示），即我们试图预测的值。\n",
    "  \n",
    " $m$  指的是直线的斜率。\n",
    " \n",
    " $x$  指的是每分钟的鸣叫声次数，即输入特征的值。\n",
    " \n",
    " $b$  指的是 y 轴截距。"
   ]
  },
  {
   "cell_type": "markdown",
   "metadata": {},
   "source": [
    "方式是为"
   ]
  },
  {
   "cell_type": "markdown",
   "metadata": {},
   "source": [
    "$ y^\\prime = b  + w_1 x_1   $"
   ]
  },
  {
   "cell_type": "markdown",
   "metadata": {},
   "source": [
    " $  y^\\prime  $     指的是预测<b>标签<b>（理想输出值）\n",
    " \n",
    " $  b  $指的是偏差（y 轴截距）。而在一些机器学习文档中，它称为  w_0\n",
    " \n",
    " $  w_1 $ 指的是特征 1 的权重。权重与上文中用  表示的“斜率”的概念相同\n",
    " \n",
    " $ x_1  $  指的是<b>特征<b>（已知输入项）"
   ]
  },
  {
   "cell_type": "markdown",
   "metadata": {},
   "source": [
    "具有三个特征的"
   ]
  },
  {
   "cell_type": "markdown",
   "metadata": {},
   "source": [
    "$     y^\\prime =  b  + w_1x_1  +  w_2x_2 +  w_3x_3    $"
   ]
  },
  {
   "cell_type": "markdown",
   "metadata": {},
   "source": [
    "### 训练与损失"
   ]
  },
  {
   "cell_type": "markdown",
   "metadata": {},
   "source": [
    "##### 平方损失（又称L2损失）的损失函数"
   ]
  },
  {
   "cell_type": "markdown",
   "metadata": {},
   "source": [
    "$   (y  - y^\\prime)^2    $"
   ]
  },
  {
   "cell_type": "code",
   "execution_count": null,
   "metadata": {},
   "outputs": [],
   "source": [
    ""
   ]
  },
  {
   "cell_type": "markdown",
   "metadata": {},
   "source": [
    "##### 均方误差（MSE）， 指的是每个样本的的平均平方损失， 要计算MSE， 请求出各个样本的所有平方损失之和， 然后除以样本数量"
   ]
  },
  {
   "cell_type": "markdown",
   "metadata": {},
   "source": [
    "$   MSE = \\frac{1}{N} \\sum_{(x,y)\\in D} (y - prediction(x))^2    $\n"
   ]
  },
  {
   "cell_type": "code",
   "execution_count": null,
   "metadata": {},
   "outputs": [],
   "source": [
    ""
   ]
  }
 ],
 "metadata": {
  "kernelspec": {
   "display_name": "Python 3",
   "language": "python",
   "name": "python3"
  },
  "language_info": {
   "codemirror_mode": {
    "name": "ipython",
    "version": 3.0
   },
   "file_extension": ".py",
   "mimetype": "text/x-python",
   "name": "python",
   "nbconvert_exporter": "python",
   "pygments_lexer": "ipython3",
   "version": "3.6.3"
  }
 },
 "nbformat": 4,
 "nbformat_minor": 2
}